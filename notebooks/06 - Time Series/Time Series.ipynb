{
 "cells": [
  {
   "cell_type": "markdown",
   "metadata": {},
   "source": [
    "# Time Series"
   ]
  },
  {
   "cell_type": "markdown",
   "metadata": {},
   "source": [
    "### importar pandas, numpy e matplotlib"
   ]
  },
  {
   "cell_type": "code",
   "execution_count": 1,
   "metadata": {},
   "outputs": [],
   "source": [
    "import pandas as pd\n",
    "import numpy as np\n",
    "import matplotlib.pyplot as plt\n",
    "%matplotlib inline\n"
   ]
  },
  {
   "cell_type": "markdown",
   "metadata": {},
   "source": [
    "## datetime\n"
   ]
  },
  {
   "cell_type": "code",
   "execution_count": 2,
   "metadata": {},
   "outputs": [],
   "source": [
    "import datetime"
   ]
  },
  {
   "cell_type": "markdown",
   "metadata": {},
   "source": [
    "### Locale"
   ]
  },
  {
   "cell_type": "code",
   "execution_count": 54,
   "metadata": {},
   "outputs": [],
   "source": [
    "import locale"
   ]
  },
  {
   "cell_type": "code",
   "execution_count": 55,
   "metadata": {},
   "outputs": [
    {
     "data": {
      "text/plain": [
       "'pt-BR'"
      ]
     },
     "execution_count": 55,
     "metadata": {},
     "output_type": "execute_result"
    }
   ],
   "source": [
    "locale.setlocale(locale.LC_ALL, 'pt-BR')"
   ]
  },
  {
   "cell_type": "markdown",
   "metadata": {},
   "source": [
    "### Data e Hora atual (Now)"
   ]
  },
  {
   "cell_type": "code",
   "execution_count": 3,
   "metadata": {},
   "outputs": [
    {
     "data": {
      "text/plain": [
       "datetime.datetime(2024, 1, 30, 20, 21, 11, 181562)"
      ]
     },
     "execution_count": 3,
     "metadata": {},
     "output_type": "execute_result"
    }
   ],
   "source": [
    "datetime.datetime.now()"
   ]
  },
  {
   "cell_type": "code",
   "execution_count": 4,
   "metadata": {},
   "outputs": [
    {
     "name": "stdout",
     "output_type": "stream",
     "text": [
      "2024-01-30 20:21:11.408305\n"
     ]
    }
   ],
   "source": [
    "print(datetime.datetime.now())"
   ]
  },
  {
   "cell_type": "markdown",
   "metadata": {},
   "source": [
    "\n",
    "### Diferença de tempo (Timedelta)"
   ]
  },
  {
   "cell_type": "code",
   "execution_count": 5,
   "metadata": {},
   "outputs": [],
   "source": [
    "antes = datetime.datetime.now()"
   ]
  },
  {
   "cell_type": "code",
   "execution_count": 6,
   "metadata": {},
   "outputs": [],
   "source": [
    "depois = datetime.datetime.now()"
   ]
  },
  {
   "cell_type": "code",
   "execution_count": 7,
   "metadata": {},
   "outputs": [],
   "source": [
    "diferenca = depois-antes"
   ]
  },
  {
   "cell_type": "code",
   "execution_count": 8,
   "metadata": {},
   "outputs": [
    {
     "data": {
      "text/plain": [
       "0"
      ]
     },
     "execution_count": 8,
     "metadata": {},
     "output_type": "execute_result"
    }
   ],
   "source": [
    "diferenca.seconds"
   ]
  },
  {
   "cell_type": "code",
   "execution_count": 9,
   "metadata": {},
   "outputs": [
    {
     "data": {
      "text/plain": [
       "datetime.timedelta(seconds=15)"
      ]
     },
     "execution_count": 9,
     "metadata": {},
     "output_type": "execute_result"
    }
   ],
   "source": [
    "datetime.timedelta(seconds=15)"
   ]
  },
  {
   "cell_type": "markdown",
   "metadata": {},
   "source": [
    "### String Para Data Hora (Strptime)"
   ]
  },
  {
   "cell_type": "code",
   "execution_count": 25,
   "metadata": {},
   "outputs": [
    {
     "data": {
      "text/plain": [
       "'30-01-24 20:24:30'"
      ]
     },
     "execution_count": 25,
     "metadata": {},
     "output_type": "execute_result"
    }
   ],
   "source": [
    "str_data_hora =  '30-01-24 20:24:30'\n",
    "str_data_hora"
   ]
  },
  {
   "cell_type": "code",
   "execution_count": 27,
   "metadata": {},
   "outputs": [],
   "source": [
    "convertida_para_datetime = datetime.datetime.strptime(str_data_hora, '%d-%m-%y %H:%M:%S')"
   ]
  },
  {
   "cell_type": "code",
   "execution_count": 28,
   "metadata": {},
   "outputs": [
    {
     "data": {
      "text/plain": [
       "datetime.datetime(2024, 1, 30, 20, 24, 30)"
      ]
     },
     "execution_count": 28,
     "metadata": {},
     "output_type": "execute_result"
    }
   ],
   "source": [
    "convertida_para_datetime"
   ]
  },
  {
   "cell_type": "code",
   "execution_count": 21,
   "metadata": {},
   "outputs": [
    {
     "name": "stdout",
     "output_type": "stream",
     "text": [
      "2024-01-30 20:24:30\n"
     ]
    }
   ],
   "source": [
    "print(convertida_para_datetime)"
   ]
  },
  {
   "cell_type": "markdown",
   "metadata": {},
   "source": [
    "### String para Data"
   ]
  },
  {
   "cell_type": "code",
   "execution_count": 31,
   "metadata": {},
   "outputs": [],
   "source": [
    "str_data =  '30-01-24'"
   ]
  },
  {
   "cell_type": "code",
   "execution_count": 33,
   "metadata": {},
   "outputs": [],
   "source": [
    "data = datetime.datetime.strptime(str_data, '%d-%m-%y').date()"
   ]
  },
  {
   "cell_type": "code",
   "execution_count": 34,
   "metadata": {},
   "outputs": [
    {
     "data": {
      "text/plain": [
       "datetime.date(2024, 1, 30)"
      ]
     },
     "execution_count": 34,
     "metadata": {},
     "output_type": "execute_result"
    }
   ],
   "source": [
    "data"
   ]
  },
  {
   "cell_type": "code",
   "execution_count": 35,
   "metadata": {},
   "outputs": [
    {
     "name": "stdout",
     "output_type": "stream",
     "text": [
      "2024-01-30\n"
     ]
    }
   ],
   "source": [
    "print(data)"
   ]
  },
  {
   "cell_type": "code",
   "execution_count": null,
   "metadata": {},
   "outputs": [],
   "source": []
  },
  {
   "cell_type": "markdown",
   "metadata": {},
   "source": [
    "### Conversão de String para Tempo (Strptime)"
   ]
  },
  {
   "cell_type": "code",
   "execution_count": 36,
   "metadata": {},
   "outputs": [],
   "source": [
    "str_tempo = '20:37:40'"
   ]
  },
  {
   "cell_type": "code",
   "execution_count": 38,
   "metadata": {},
   "outputs": [],
   "source": [
    "tempo = datetime.datetime.strptime(str_tempo, '%H:%M:%S').time()"
   ]
  },
  {
   "cell_type": "code",
   "execution_count": 39,
   "metadata": {},
   "outputs": [
    {
     "data": {
      "text/plain": [
       "datetime.time(20, 37, 40)"
      ]
     },
     "execution_count": 39,
     "metadata": {},
     "output_type": "execute_result"
    }
   ],
   "source": [
    "tempo"
   ]
  },
  {
   "cell_type": "code",
   "execution_count": 40,
   "metadata": {},
   "outputs": [
    {
     "name": "stdout",
     "output_type": "stream",
     "text": [
      "20:37:40\n"
     ]
    }
   ],
   "source": [
    "print(tempo)"
   ]
  },
  {
   "cell_type": "markdown",
   "metadata": {},
   "source": [
    "### Períodos de Tempo (Freq)"
   ]
  },
  {
   "cell_type": "code",
   "execution_count": 43,
   "metadata": {},
   "outputs": [],
   "source": [
    "start = '01-01-2024'\n",
    "end = '31-12-2024'"
   ]
  },
  {
   "cell_type": "code",
   "execution_count": 79,
   "metadata": {},
   "outputs": [
    {
     "name": "stderr",
     "output_type": "stream",
     "text": [
      "C:\\Users\\phill\\anaconda3\\lib\\site-packages\\IPython\\core\\interactiveshell.py:3457: UserWarning: Parsing '31-12-2024' in DD/MM/YYYY format. Provide format or specify infer_datetime_format=True for consistent parsing.\n",
      "  exec(code_obj, self.user_global_ns, self.user_ns)\n"
     ]
    },
    {
     "data": {
      "text/plain": [
       "Index(['janeiro', 'fevereiro', 'março', 'abril', 'maio', 'junho', 'julho',\n",
       "       'agosto', 'setembro', 'outubro', 'novembro', 'dezembro'],\n",
       "      dtype='object')"
      ]
     },
     "execution_count": 79,
     "metadata": {},
     "output_type": "execute_result"
    }
   ],
   "source": [
    "x = pd.date_range(start, end, freq='MS').strftime('%B')\n",
    "x"
   ]
  },
  {
   "cell_type": "code",
   "execution_count": 64,
   "metadata": {},
   "outputs": [
    {
     "data": {
      "text/plain": [
       "12"
      ]
     },
     "execution_count": 64,
     "metadata": {},
     "output_type": "execute_result"
    }
   ],
   "source": [
    "len(x)"
   ]
  },
  {
   "cell_type": "code",
   "execution_count": null,
   "metadata": {},
   "outputs": [],
   "source": []
  },
  {
   "cell_type": "code",
   "execution_count": null,
   "metadata": {},
   "outputs": [],
   "source": []
  },
  {
   "cell_type": "markdown",
   "metadata": {},
   "source": [
    "### Plot"
   ]
  },
  {
   "cell_type": "code",
   "execution_count": 66,
   "metadata": {},
   "outputs": [
    {
     "data": {
      "text/plain": [
       "array([ 8.3041362 ,  9.97736987,  9.21996791,  9.69684095,  9.88870356,\n",
       "        9.09755653, 11.43374449, 10.52889775,  8.44506323, 10.13119808,\n",
       "        9.54165513,  9.2351738 ])"
      ]
     },
     "execution_count": 66,
     "metadata": {},
     "output_type": "execute_result"
    }
   ],
   "source": [
    "y = np.random.normal(10,1,12) # 12 elementos | com média 10 | e desvio de 1\n",
    "y"
   ]
  },
  {
   "cell_type": "code",
   "execution_count": 80,
   "metadata": {},
   "outputs": [
    {
     "data": {
      "image/png": "[encoded data removed]",
      "text/plain": [
       "<Figure size 768x576 with 1 Axes>"
      ]
     },
     "metadata": {},
     "output_type": "display_data"
    }
   ],
   "source": [
    "f, ax = plt.subplots(dpi=120)\n",
    "ax.plot(x, y)\n",
    "f.autofmt_xdate()\n",
    "plt.show()"
   ]
  },
  {
   "cell_type": "markdown",
   "metadata": {},
   "source": [
    "### DataFrame"
   ]
  },
  {
   "cell_type": "code",
   "execution_count": null,
   "metadata": {},
   "outputs": [],
   "source": []
  },
  {
   "cell_type": "code",
   "execution_count": null,
   "metadata": {},
   "outputs": [],
   "source": []
  },
  {
   "cell_type": "markdown",
   "metadata": {},
   "source": [
    "### Index de Datas (DatetimeIndex)"
   ]
  },
  {
   "cell_type": "code",
   "execution_count": null,
   "metadata": {},
   "outputs": [],
   "source": []
  },
  {
   "cell_type": "code",
   "execution_count": null,
   "metadata": {},
   "outputs": [],
   "source": []
  },
  {
   "cell_type": "code",
   "execution_count": null,
   "metadata": {},
   "outputs": [],
   "source": []
  },
  {
   "cell_type": "code",
   "execution_count": null,
   "metadata": {},
   "outputs": [],
   "source": []
  },
  {
   "cell_type": "code",
   "execution_count": null,
   "metadata": {},
   "outputs": [],
   "source": []
  },
  {
   "cell_type": "code",
   "execution_count": null,
   "metadata": {},
   "outputs": [],
   "source": []
  },
  {
   "cell_type": "code",
   "execution_count": null,
   "metadata": {},
   "outputs": [],
   "source": []
  },
  {
   "cell_type": "code",
   "execution_count": null,
   "metadata": {},
   "outputs": [],
   "source": []
  },
  {
   "cell_type": "code",
   "execution_count": null,
   "metadata": {},
   "outputs": [],
   "source": []
  },
  {
   "cell_type": "code",
   "execution_count": null,
   "metadata": {},
   "outputs": [],
   "source": []
  },
  {
   "cell_type": "code",
   "execution_count": null,
   "metadata": {},
   "outputs": [],
   "source": []
  },
  {
   "cell_type": "code",
   "execution_count": null,
   "metadata": {},
   "outputs": [],
   "source": []
  },
  {
   "cell_type": "code",
   "execution_count": null,
   "metadata": {},
   "outputs": [],
   "source": []
  },
  {
   "cell_type": "code",
   "execution_count": null,
   "metadata": {},
   "outputs": [],
   "source": []
  },
  {
   "cell_type": "markdown",
   "metadata": {},
   "source": [
    "<center><h1> <a href=\"http://strftime.org/\">String Para Tempo (Strftime)</a></h1>\n",
    "<br>Nota: Exemplos baseados em datetime.datetime(2013, 9, 30, 7, 6, 5)</center>\n",
    "\n",
    "<div>\n",
    "<table cellpadding = \"0\" cellpacing = \"0\" border = \"0\">\n",
    "        <colgroup>\n",
    "          <col id = \"diretiva\">\n",
    "          <col id = \"meaning\">\n",
    "          <col id = \"example\">\n",
    "        </colgroup>\n",
    "        <thead>\n",
    "          <tr>\n",
    "            <th> Código </th>\n",
    "            <th> Significado </th>\n",
    "            <th> Exemplo </th>\n",
    "          </tr>\n",
    "        </thead>\n",
    "        <tbody>\n",
    "            <tr>\n",
    "              <td><code>%a</code> </td>\n",
    "              <td> Dia da semana como nome abreviado da localidade. </td>\n",
    "              <td><code> Seg</code> </td>\n",
    "            </tr>\n",
    "            <tr>\n",
    "              <td><code>%A</code> </td>\n",
    "              <td> Dia da semana como o nome completo da localidade. </td>\n",
    "              <td><code> Segunda-feira</code> </td>\n",
    "            </tr>\n",
    "            <tr>\n",
    "              <td><code>%w</code> </td>\n",
    "              <td> Dia da semana como um número decimal, onde 0 é domingo e 6 é sábado. </td>\n",
    "              <td><code>1</code> </td>\n",
    "            </tr>\n",
    "            <tr>\n",
    "              <td><code>%d</code> </td>\n",
    "              <td> Dia do mês como um número decimal preenchido com zero. </td>\n",
    "              <td><code>30</code> </td>\n",
    "            </tr>\n",
    "            <tr>\n",
    "              <td><code>%-d</code> </td>\n",
    "              <td> Dia do mês como um número decimal. (Específico da plataforma) </td>\n",
    "              <td><code>30</code> </td>\n",
    "            </tr>\n",
    "            <tr>\n",
    "              <td><code>%b</code> </td>\n",
    "              <td> Mês como nome abreviado da localidade. </td>\n",
    "              <td><code> Set </code></td>\n",
    "            </tr>\n",
    "            <tr>\n",
    "              <td><code>%B</code> </td>\n",
    "              <td> Mês como nome completo do código do idioma. </td>\n",
    "              <td><code> Setembro</code> </td>\n",
    "            </tr>\n",
    "            <tr>\n",
    "              <td><code>%m</code> </td>\n",
    "              <td> Mês como um número decimal preenchido com zero. </td>\n",
    "              <td><code>09</code> </td>\n",
    "            </tr>\n",
    "            <tr>\n",
    "              <td><code>%-m</code> </td>\n",
    "              <td> Mês como um número decimal. (Específico da plataforma) </td>\n",
    "              <td><code>9</code> </td>\n",
    "            </tr>\n",
    "            <tr>\n",
    "              <td><code>%y</code> </td>\n",
    "              <td> Ano sem século como um número decimal preenchido com zero. </td>\n",
    "              <td><code>13</code> </td>\n",
    "            </tr>\n",
    "            <tr>\n",
    "              <td><code>%Y</code> </td>\n",
    "              <td> Ano com o século como um número decimal. </td>\n",
    "              <td><code>2013</code> </td>\n",
    "            </tr>\n",
    "            <tr>\n",
    "              <td><code>%H</code> </td>\n",
    "              <td> Hora (relógio de 24 horas) como um número decimal preenchido com zero. </td>\n",
    "              <td><code>07</code> </td>\n",
    "            </tr>\n",
    "            <tr>\n",
    "              <td><code>%-H</code> </td>\n",
    "              <td> Hora (relógio de 24 horas) como um número decimal. (Específico da plataforma) </td>\n",
    "              <td><code>7</code> </td>\n",
    "            </tr>\n",
    "            <tr>\n",
    "              <td><code>%I</code> </td>\n",
    "              <td> Hora (relógio de 12 horas) como um número decimal preenchido com zero. </td>\n",
    "              <td><code>07</code> </td>\n",
    "            </tr>\n",
    "            <tr>\n",
    "              <td><code>%-I</code> </td>\n",
    "              <td> Hora (relógio de 12 horas) como um número decimal. (Específico da plataforma) </td>\n",
    "              <td><code>7</code> </td>\n",
    "            </tr>\n",
    "            <tr>\n",
    "              <td><code>%p</code> </td>\n",
    "              <td> O equivalente da localidade de AM ou PM. </td>\n",
    "              <td><code>AM</code> </td>\n",
    "            </tr>\n",
    "            <tr>\n",
    "              <td><code>%M</code> </td>\n",
    "              <td> Minuto como um número decimal preenchido com zero. </td>\n",
    "              <td><code>06</code> </td>\n",
    "            </tr>\n",
    "            <tr>\n",
    "              <td><code>%-M</code> </td>\n",
    "              <td> Minuto como um número decimal. (Específico da plataforma) </td>\n",
    "              <td><code>6</code> </td>\n",
    "            </tr>\n",
    "            <tr>\n",
    "              <td><code>%S</code> </td>\n",
    "              <td> Segundo como um número decimal preenchido com zero. </td>\n",
    "              <td><code>05</code> </td>\n",
    "            </tr>\n",
    "            <tr>\n",
    "              <td><code>%-S</code> </td>\n",
    "              <td> Segundo como um número decimal. (Específico da plataforma) </td>\n",
    "              <td><code>5</code> </td>\n",
    "            </tr>\n",
    "            <tr>\n",
    "              <td><code>%f</code> </td>\n",
    "              <td> Microssegundo como um número decimal, preenchido com zero à esquerda. </td>\n",
    "              <td><code>000000</code> </td>\n",
    "            </tr>\n",
    "            <tr>\n",
    "              <td><code>%z</code> </td>\n",
    "              <td> Deslocamento UTC no formato + HHMM ou -HHMM (string vazia se o objeto for ingênuo). </td>\n",
    "              <td><code></code> </td>\n",
    "            </tr>\n",
    "            <tr>\n",
    "              <td><code>%Z</code> </td>\n",
    "              <td> Nome do fuso horário (string vazia se o objeto for ingênuo). </td>\n",
    "              <td><code></code> </td>\n",
    "            </tr>\n",
    "            <tr>\n",
    "              <td><code>%j</code> </td>\n",
    "              <td> Dia do ano como um número decimal preenchido com zero. </td>\n",
    "              <td><code>273</code> </td>\n",
    "            </tr>\n",
    "            <tr>\n",
    "              <td><code>%-j</code> </td>\n",
    "              <td> Dia do ano como um número decimal. (Específico da plataforma) </td>\n",
    "              <td><code>273</code> </td>\n",
    "            </ tr>\n",
    "            <tr>\n",
    "              <td><code>%U</code> </td>\n",
    "              <td> Número da semana do ano (domingo como o primeiro dia da semana) como um número decimal preenchido com zero. Todos os dias em um novo ano anterior ao primeiro domingo são considerados na semana 0. </td>\n",
    "              <td><code>39</code> </td>\n",
    "            </tr>\n",
    "            <tr>\n",
    "              <td><code>%W</code> </td>\n",
    "              <td> Número da semana do ano (segunda-feira como o primeiro dia da semana) como um número decimal. Todos os dias do ano novo anterior à primeira segunda-feira são considerados na semana 0. </td>\n",
    "              <td><code>39</code> </td>\n",
    "            </tr>\n",
    "            <tr>\n",
    "              <td><code>%c</code> </td>\n",
    "              <td> Representação apropriada de data e hora da localidade. </td>\n",
    "              <td> <code> Seg 30 set 07:06:05 2013 </code> </td>\n",
    "            </tr>\n",
    "            <tr>\n",
    "              <td><code>%x</code> </td>\n",
    "              <td> Representação de data apropriada da localidade. </td>\n",
    "              <td><code>09/30/13</code> </td>\n",
    "            </tr>\n",
    "            <tr>\n",
    "              <td><code>%X</code> </td>\n",
    "              <td> Representação de tempo apropriada da localidade. </td>\n",
    "              <td><code>07:06:05</code> </td>\n",
    "            </tr>\n",
    "            <tr>\n",
    "              <td><code>%%</code> </td>\n",
    "              <td> Um caractere literal '%'. </td>\n",
    "              <td><code>%</code> </td>\n",
    "            </tr>\n",
    "        </tbody>\n",
    "      </table>\n",
    "</div>\n"
   ]
  },
  {
   "cell_type": "markdown",
   "metadata": {},
   "source": [
    "\n"
   ]
  },
  {
   "cell_type": "markdown",
   "metadata": {},
   "source": [
    "\n"
   ]
  },
  {
   "cell_type": "markdown",
   "metadata": {},
   "source": [
    "\n"
   ]
  },
  {
   "cell_type": "markdown",
   "metadata": {},
   "source": [
    "<center><h1> <a href=\"https://pandas.pydata.org/pandas-docs/stable/user_guide/timeseries.html#timeseries-offset-aliases\">String Para Períodos (Freq)</a></h1></center>\n",
    "\n",
    "<table border = \"1\" class = \"documentos fornecidos pelas larguras\">\n",
    "<colgroup>\n",
    "<largura da coluna = \"13%\" />\n",
    "<largura da coluna = \"87%\" />\n",
    "</colgroup>\n",
    "<thead valign = \"bottom\">\n",
    "<tr class = \"row-odd\"> <th class = \"head\"> Alias ​​</th>\n",
    "<th class = \"head\"> Descrição </th>\n",
    "</tr>\n",
    "</thead>\n",
    "<tbody valign = \"top\">\n",
    "<tr class = \"row-even\"> <td> B </td>\n",
    "<td> frequência de dias úteis </td>\n",
    "</tr>\n",
    "<tr class = \"row-odd\"> <td> C </td>\n",
    "<td> frequência de dias úteis personalizados </td>\n",
    "</tr>\n",
    "<tr class = \"row-even\"> <td> D </td>\n",
    "<td> frequência do dia do calendário </td>\n",
    "</tr>\n",
    "<tr class = \"row-odd\"> <td> W </td>\n",
    "<td> frequência semanal </td>\n",
    "</tr>\n",
    "<tr class = \"row-even\"> <td> M </td>\n",
    "<td> frequência de final do mês </td>\n",
    "</tr>\n",
    "<tr class = \"row-odd\"> <td> SM </td>\n",
    "<td> frequência final semestral (15 e final do mês) </td>\n",
    "</tr>\n",
    "<tr class = \"row-even\"> <td> BM </td>\n",
    "<td> frequência final do mês útil </td>\n",
    "</tr>\n",
    "<tr class = \"row-odd\"> <td> CBM </td>\n",
    "<td> frequência de final de mês comercial personalizada </td>\n",
    "</tr>\n",
    "<tr class = \"row-even\"> <td> MS </td>\n",
    "<td> frequência de início do mês </td>\n",
    "</tr>\n",
    "<tr class = \"row-odd\"> <td> SMS </td>\n",
    "<td> frequência de início semestral (1º e 15º) </td>\n",
    "</tr>\n",
    "<tr class = \"row-even\"> <td> BMS </td>\n",
    "<td> frequência de início do mês útil </td>\n",
    "</tr>\n",
    "<tr class = \"row-odd\"> <td> CBMS </td>\n",
    "<td> frequência de início do mês útil personalizado </td>\n",
    "</tr>\n",
    "<tr class = \"row-even\"> <td> Q </td>\n",
    "<td> frequência de final de trimestre </td>\n",
    "</tr>\n",
    "<tr class = \"row-odd\"> <td> BQ </td>\n",
    "<td> frequência de final de trimestre de negócios </td>\n",
    "</tr>\n",
    "<tr class = \"row-even\"> <td> QS </td>\n",
    "<td> frequência de início do trimestre </td>\n",
    "</tr>\n",
    "<tr class = \"row-odd\"> <td> BQS </td>\n",
    "<td> frequência de início do trimestre de negócios </td>\n",
    "</tr>\n",
    "<tr class = \"row-even\"> <td> A, Y </td>\n",
    "<td> frequência de final de ano </td>\n",
    "</tr>\n",
    "<tr class = \"row-odd\"> <td> BA, POR </td>\n",
    "<td> frequência de fim de ano comercial </td>\n",
    "</tr>\n",
    "<tr class = \"row-even\"> <td> AS, YS </td>\n",
    "<td> frequência de início do ano </td>\n",
    "</tr>\n",
    "<tr class = \"row-odd\"> <td> BAS, BYS </td>\n",
    "<td> frequência de início do ano comercial </td>\n",
    "</tr>\n",
    "<tr class = \"row-even\"> <td> BH </td>\n",
    "<td> frequência do horário comercial </td>\n",
    "</tr>\n",
    "<tr class = \"row-odd\"> <td> H </td>\n",
    "<td> frequência horária </td>\n",
    "</tr>\n",
    "<tr class = \"row-even\"> <td> T, mín. </td>\n",
    "<td> frequência minuciosa </td>\n",
    "</tr>\n",
    "<tr class = \"row-odd\"> <td> S </td>\n",
    "<td> segunda frequência </td>\n",
    "</tr>\n",
    "<tr class = \"row-even\"> <td> L, ms </td>\n",
    "<td> milissegundos </td>\n",
    "</tr>\n",
    "<tr class = \"row-odd\"> <td> U, us </td>\n",
    "<td> microssegundos </td>\n",
    "</tr>\n",
    "<tr class = \"row-even\"> <td> N </td>\n",
    "<td> nanossegundos </td>\n",
    "</tr>\n",
    "</tbody>\n",
    "</table>"
   ]
  }
 ],
 "metadata": {
  "kernelspec": {
   "display_name": "Python 3 (ipykernel)",
   "language": "python",
   "name": "python3"
  },
  "language_info": {
   "codemirror_mode": {
    "name": "ipython",
    "version": 3
   },
   "file_extension": ".py",
   "mimetype": "text/x-python",
   "name": "python",
   "nbconvert_exporter": "python",
   "pygments_lexer": "ipython3",
   "version": "3.9.13"
  }
 },
 "nbformat": 4,
 "nbformat_minor": 2
}
